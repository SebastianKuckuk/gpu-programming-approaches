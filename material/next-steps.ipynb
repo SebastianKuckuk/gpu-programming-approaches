{
 "cells": [
  {
   "cell_type": "markdown",
   "id": "a45930eb-71cc-48b6-a996-4e38943b5b49",
   "metadata": {},
   "source": [
    "# Next Steps"
   ]
  },
  {
   "cell_type": "markdown",
   "id": "6ea139f1",
   "metadata": {},
   "source": [
    "\n",
    "In this section, we outline how to analyze and optimize GPU applications using Nvidia's profiling tools, and discuss patterns and considerations for further performance improvements."
   ]
  },
  {
   "cell_type": "markdown",
   "id": "40a8bcf7",
   "metadata": {
    "jp-MarkdownHeadingCollapsed": true,
    "tags": []
   },
   "source": [
    "## Profiling and Optimization"
   ]
  },
  {
   "cell_type": "markdown",
   "id": "5cf5a788",
   "metadata": {},
   "source": [
    "The instructions for first steps in profiling and optimizing GPU applications are summarized in the [Profiling & Optimization](./profiling-optimization.ipynb) notebook."
   ]
  },
  {
   "cell_type": "markdown",
   "id": "5d700c64",
   "metadata": {
    "jp-MarkdownHeadingCollapsed": true,
    "tags": []
   },
   "source": [
    "## Computational Patterns"
   ]
  },
  {
   "cell_type": "markdown",
   "id": "cfc81e22",
   "metadata": {},
   "source": [
    "When selecting a GPU programming approach, it is crucial to identify the application's *computational patterns* and check for their support:\n",
    "* Can the pattern be implemented at all?\n",
    "* Can it be implemented concisely?\n",
    "* Can it be implemented efficiently?"
   ]
  },
  {
   "cell_type": "markdown",
   "id": "0a21de21",
   "metadata": {},
   "source": [
    "One common computational pattern in many applications is the *reduction*, which can be a challenge in GPU-accelerated codes.\n",
    "The [reductions](./reductions.ipynb) notebook compares the degree of support the different GPU programming approaches offer for this pattern."
   ]
  },
  {
   "cell_type": "markdown",
   "id": "4f98484f",
   "metadata": {
    "jp-MarkdownHeadingCollapsed": true,
    "tags": []
   },
   "source": [
    "## Beyond 1D"
   ]
  },
  {
   "cell_type": "markdown",
   "id": "b59ee5ba-fd5b-4b20-8d54-e79b884ae05a",
   "metadata": {},
   "source": [
    "Many algorithms use multidimensional iteration spaces and data structures, not just 1D.\n",
    "When choosing a GPU programming approach, consider:\n",
    "* Can multidimensional iteration spaces be parallelized intuitively?\n",
    "* Can the thread hierarchy be multidimensional? This can improve data reuse for neighborhood-based access patterns.\n",
    "* Is there support for multidimensional data structures?\n",
    "\n",
    "This repository includes a 2D matrix addition example parallelized with the techniques discussed in this workshop which can serve as a starting point."
   ]
  },
  {
   "cell_type": "markdown",
   "id": "ed7b9a90-cd5a-4f49-ab35-c3dae9703229",
   "metadata": {
    "jp-MarkdownHeadingCollapsed": true,
    "tags": []
   },
   "source": [
    "## Interoperability"
   ]
  },
  {
   "cell_type": "markdown",
   "id": "5d885722-2c66-484d-a301-ec90d2ba26b2",
   "metadata": {},
   "source": [
    "Another important consideration is interoperability.\n",
    "Although beyond the scope of this workshop, many GPU programming approaches provide interfaces to and from CUDA/HIP on their respective platforms."
   ]
  },
  {
   "cell_type": "markdown",
   "id": "0e1da9f2-96d4-4cd7-b6b9-eb1caad6f03c",
   "metadata": {
    "jp-MarkdownHeadingCollapsed": true,
    "tags": []
   },
   "source": [
    "## Multi-GPU"
   ]
  },
  {
   "cell_type": "markdown",
   "id": "05208088-d364-4f11-ae62-7d908ff38fc2",
   "metadata": {},
   "source": [
    "Scaling workloads to multiple GPUs and even multiple GPU-equipped nodes is crucial in many HPC applications.\\\n",
    "This requires mechanisms for targeting different GPUs on a node and interoperability with distributed memory solutions such as MPI."
   ]
  },
  {
   "cell_type": "markdown",
   "id": "aff3f5e8",
   "metadata": {
    "jp-MarkdownHeadingCollapsed": true,
    "tags": []
   },
   "source": [
    "## Next Step"
   ]
  },
  {
   "cell_type": "markdown",
   "id": "729262de",
   "metadata": {},
   "source": [
    "Proceed to the [programming challenge](./programming-challenge.ipynb) notebook to apply what you've learned."
   ]
  }
 ],
 "metadata": {
  "kernelspec": {
   "display_name": "Python 3 (ipykernel)",
   "language": "python",
   "name": "python3"
  },
  "language_info": {
   "codemirror_mode": {
    "name": "ipython",
    "version": 3
   },
   "file_extension": ".py",
   "mimetype": "text/x-python",
   "name": "python",
   "nbconvert_exporter": "python",
   "pygments_lexer": "ipython3",
   "version": "3.13.5"
  }
 },
 "nbformat": 4,
 "nbformat_minor": 5
}
